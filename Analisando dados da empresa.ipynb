{
  "nbformat": 4,
  "nbformat_minor": 0,
  "metadata": {
    "colab": {
      "provenance": [],
      "authorship_tag": "ABX9TyNRSEZwldo6cgYBFyuu8f4O",
      "include_colab_link": true
    },
    "kernelspec": {
      "name": "python3",
      "display_name": "Python 3"
    },
    "language_info": {
      "name": "python"
    }
  },
  "cells": [
    {
      "cell_type": "markdown",
      "metadata": {
        "id": "view-in-github",
        "colab_type": "text"
      },
      "source": [
        "<a href=\"https://colab.research.google.com/github/gustavo-desk/Google-Colab/blob/main/Analisando%20dados%20da%20empresa.ipynb\" target=\"_parent\"><img src=\"https://colab.research.google.com/assets/colab-badge.svg\" alt=\"Open In Colab\"/></a>"
      ]
    },
    {
      "cell_type": "code",
      "execution_count": null,
      "metadata": {
        "id": "ITI8TjkL14t1"
      },
      "outputs": [],
      "source": [
        "import pandas as pd\n",
        "import matplotlib.pyplot as plt"
      ]
    },
    {
      "cell_type": "markdown",
      "source": [
        "Cirnado Data Farme para armazenar os dados"
      ],
      "metadata": {
        "id": "kNUOfzpC4R4U"
      }
    },
    {
      "cell_type": "code",
      "source": [
        "df = pd.read_excel(\"/content/controle_da_empresa.xlsx\", None)\n",
        "df"
      ],
      "metadata": {
        "colab": {
          "base_uri": "https://localhost:8080/"
        },
        "id": "1D4q5yG-26_O",
        "outputId": "bfde7d00-d367-4d47-d293-b8bffda11a0f"
      },
      "execution_count": null,
      "outputs": [
        {
          "output_type": "execute_result",
          "data": {
            "text/plain": [
              "{'Estoque':    Código                 Item  Estoque Mínimo  Custo da Unidade  \\\n",
              " 0  SIG001     Canon 6D Mark II               5              8500   \n",
              " 1  SIG002    Canon 5D Mark III               2              9500   \n",
              " 2  SIG003     Lente 85mm f/1.4               8              7000   \n",
              " 3  SIG004     Lente 50mm f/1.4               8               900   \n",
              " 4  SIG005  Lente 16-35mm f/2.8               8              6120   \n",
              " 5  SIG006     Filtro ND 2 Stop               2               450   \n",
              " 6  SIG007     Filtro ND 3 Stop               2               450   \n",
              " 7  SIG008     Filtro ND 5 Stop               2               450   \n",
              " 8  SIG009      DJI Mavic Air 2               1             10890   \n",
              " 9  SIG010          DJI Ronin-S               1              3980   \n",
              " \n",
              "    Preço da Unidade Unidade de Medida  Estoque Atual  \n",
              " 0              8500           Unidade             13  \n",
              " 1             13650           Unidade              1  \n",
              " 2              9989           Unidade              6  \n",
              " 3              1649           Unidade             10  \n",
              " 4              8997           Unidade             11  \n",
              " 5              1220           Unidade             20  \n",
              " 6              1220           Unidade             21  \n",
              " 7              1220           Unidade             18  \n",
              " 8             13580           Unidade              2  \n",
              " 9              5790           Unidade              1  ,\n",
              " 'Vendas':    Data da Venda                 Item  Quantidade  Vendedor  Preço Unitário  \\\n",
              " 0     2020-01-02     Lente 50mm f/1.4           2    Carlos            1649   \n",
              " 1     2020-01-02     Filtro ND 5 Stop           2    Raquel            1220   \n",
              " 2     2020-01-03     Filtro ND 5 Stop           2    Raquel            1220   \n",
              " 3     2020-01-03  Lente 16-35mm f/2.8           2    Carlos            8997   \n",
              " 4     2020-01-04  Lente 16-35mm f/2.8           2  Fernanda            8997   \n",
              " ..           ...                  ...         ...       ...             ...   \n",
              " 85    2020-01-29     Filtro ND 5 Stop           2      Theo            1220   \n",
              " 86    2020-01-29  Lente 16-35mm f/2.8           2      Theo            8997   \n",
              " 87    2020-01-29     Filtro ND 2 Stop           1  Fernanda            1220   \n",
              " 88    2020-01-30     Filtro ND 3 Stop           2  Fernanda            1220   \n",
              " 89    2020-01-30     Filtro ND 5 Stop           2    Raquel            1220   \n",
              " \n",
              "     Total de Vendas  \n",
              " 0              3298  \n",
              " 1              2440  \n",
              " 2              2440  \n",
              " 3             17994  \n",
              " 4             17994  \n",
              " ..              ...  \n",
              " 85             2440  \n",
              " 86            17994  \n",
              " 87             1220  \n",
              " 88             2440  \n",
              " 89             2440  \n",
              " \n",
              " [90 rows x 6 columns],\n",
              " 'Funcionários':   Funcionário  Total de Vendas\n",
              " 0      Carlos           205301\n",
              " 1    Fernanda           204982\n",
              " 2        Theo           272816\n",
              " 3      Raquel           172700}"
            ]
          },
          "metadata": {},
          "execution_count": 8
        },
        {
          "output_type": "execute_result",
          "data": {
            "text/plain": [
              "{'Estoque':    Código                 Item  Estoque Mínimo  Custo da Unidade  \\\n",
              " 0  SIG001     Canon 6D Mark II               5              8500   \n",
              " 1  SIG002    Canon 5D Mark III               2              9500   \n",
              " 2  SIG003     Lente 85mm f/1.4               8              7000   \n",
              " 3  SIG004     Lente 50mm f/1.4               8               900   \n",
              " 4  SIG005  Lente 16-35mm f/2.8               8              6120   \n",
              " 5  SIG006     Filtro ND 2 Stop               2               450   \n",
              " 6  SIG007     Filtro ND 3 Stop               2               450   \n",
              " 7  SIG008     Filtro ND 5 Stop               2               450   \n",
              " 8  SIG009      DJI Mavic Air 2               1             10890   \n",
              " 9  SIG010          DJI Ronin-S               1              3980   \n",
              " \n",
              "    Preço da Unidade Unidade de Medida  Estoque Atual  \n",
              " 0              8500           Unidade             13  \n",
              " 1             13650           Unidade              1  \n",
              " 2              9989           Unidade              6  \n",
              " 3              1649           Unidade             10  \n",
              " 4              8997           Unidade             11  \n",
              " 5              1220           Unidade             20  \n",
              " 6              1220           Unidade             21  \n",
              " 7              1220           Unidade             18  \n",
              " 8             13580           Unidade              2  \n",
              " 9              5790           Unidade              1  ,\n",
              " 'Vendas':    Data da Venda                 Item  Quantidade  Vendedor  Preço Unitário  \\\n",
              " 0     2020-01-02     Lente 50mm f/1.4           2    Carlos            1649   \n",
              " 1     2020-01-02     Filtro ND 5 Stop           2    Raquel            1220   \n",
              " 2     2020-01-03     Filtro ND 5 Stop           2    Raquel            1220   \n",
              " 3     2020-01-03  Lente 16-35mm f/2.8           2    Carlos            8997   \n",
              " 4     2020-01-04  Lente 16-35mm f/2.8           2  Fernanda            8997   \n",
              " ..           ...                  ...         ...       ...             ...   \n",
              " 85    2020-01-29     Filtro ND 5 Stop           2      Theo            1220   \n",
              " 86    2020-01-29  Lente 16-35mm f/2.8           2      Theo            8997   \n",
              " 87    2020-01-29     Filtro ND 2 Stop           1  Fernanda            1220   \n",
              " 88    2020-01-30     Filtro ND 3 Stop           2  Fernanda            1220   \n",
              " 89    2020-01-30     Filtro ND 5 Stop           2    Raquel            1220   \n",
              " \n",
              "     Total de Vendas  \n",
              " 0              3298  \n",
              " 1              2440  \n",
              " 2              2440  \n",
              " 3             17994  \n",
              " 4             17994  \n",
              " ..              ...  \n",
              " 85             2440  \n",
              " 86            17994  \n",
              " 87             1220  \n",
              " 88             2440  \n",
              " 89             2440  \n",
              " \n",
              " [90 rows x 6 columns],\n",
              " 'Funcionários':   Funcionário  Total de Vendas\n",
              " 0      Carlos           205301\n",
              " 1    Fernanda           204982\n",
              " 2        Theo           272816\n",
              " 3      Raquel           172700}"
            ]
          },
          "metadata": {},
          "execution_count": 9
        }
      ]
    },
    {
      "cell_type": "code",
      "source": [
        "# Visualizando Estoques\n",
        "df['Estoque']"
      ],
      "metadata": {
        "id": "xq5L60505Lk9"
      },
      "execution_count": null,
      "outputs": []
    },
    {
      "cell_type": "code",
      "source": [
        "# Visualizando Estoques\n",
        "df['Vendas']"
      ],
      "metadata": {
        "colab": {
          "base_uri": "https://localhost:8080/",
          "height": 423
        },
        "id": "H5iO1QxA5vKj",
        "outputId": "b2df4578-2645-4190-ead4-33966195fc34"
      },
      "execution_count": null,
      "outputs": [
        {
          "output_type": "execute_result",
          "data": {
            "text/plain": [
              "   Data da Venda                 Item  Quantidade  Vendedor  Preço Unitário  \\\n",
              "0     2020-01-02     Lente 50mm f/1.4           2    Carlos            1649   \n",
              "1     2020-01-02     Filtro ND 5 Stop           2    Raquel            1220   \n",
              "2     2020-01-03     Filtro ND 5 Stop           2    Raquel            1220   \n",
              "3     2020-01-03  Lente 16-35mm f/2.8           2    Carlos            8997   \n",
              "4     2020-01-04  Lente 16-35mm f/2.8           2  Fernanda            8997   \n",
              "..           ...                  ...         ...       ...             ...   \n",
              "85    2020-01-29     Filtro ND 5 Stop           2      Theo            1220   \n",
              "86    2020-01-29  Lente 16-35mm f/2.8           2      Theo            8997   \n",
              "87    2020-01-29     Filtro ND 2 Stop           1  Fernanda            1220   \n",
              "88    2020-01-30     Filtro ND 3 Stop           2  Fernanda            1220   \n",
              "89    2020-01-30     Filtro ND 5 Stop           2    Raquel            1220   \n",
              "\n",
              "    Total de Vendas  \n",
              "0              3298  \n",
              "1              2440  \n",
              "2              2440  \n",
              "3             17994  \n",
              "4             17994  \n",
              "..              ...  \n",
              "85             2440  \n",
              "86            17994  \n",
              "87             1220  \n",
              "88             2440  \n",
              "89             2440  \n",
              "\n",
              "[90 rows x 6 columns]"
            ],
            "text/html": [
              "\n",
              "\n",
              "  <div id=\"df-63211bef-35b4-45c0-8db2-d3367debc6ed\">\n",
              "    <div class=\"colab-df-container\">\n",
              "      <div>\n",
              "<style scoped>\n",
              "    .dataframe tbody tr th:only-of-type {\n",
              "        vertical-align: middle;\n",
              "    }\n",
              "\n",
              "    .dataframe tbody tr th {\n",
              "        vertical-align: top;\n",
              "    }\n",
              "\n",
              "    .dataframe thead th {\n",
              "        text-align: right;\n",
              "    }\n",
              "</style>\n",
              "<table border=\"1\" class=\"dataframe\">\n",
              "  <thead>\n",
              "    <tr style=\"text-align: right;\">\n",
              "      <th></th>\n",
              "      <th>Data da Venda</th>\n",
              "      <th>Item</th>\n",
              "      <th>Quantidade</th>\n",
              "      <th>Vendedor</th>\n",
              "      <th>Preço Unitário</th>\n",
              "      <th>Total de Vendas</th>\n",
              "    </tr>\n",
              "  </thead>\n",
              "  <tbody>\n",
              "    <tr>\n",
              "      <th>0</th>\n",
              "      <td>2020-01-02</td>\n",
              "      <td>Lente 50mm f/1.4</td>\n",
              "      <td>2</td>\n",
              "      <td>Carlos</td>\n",
              "      <td>1649</td>\n",
              "      <td>3298</td>\n",
              "    </tr>\n",
              "    <tr>\n",
              "      <th>1</th>\n",
              "      <td>2020-01-02</td>\n",
              "      <td>Filtro ND 5 Stop</td>\n",
              "      <td>2</td>\n",
              "      <td>Raquel</td>\n",
              "      <td>1220</td>\n",
              "      <td>2440</td>\n",
              "    </tr>\n",
              "    <tr>\n",
              "      <th>2</th>\n",
              "      <td>2020-01-03</td>\n",
              "      <td>Filtro ND 5 Stop</td>\n",
              "      <td>2</td>\n",
              "      <td>Raquel</td>\n",
              "      <td>1220</td>\n",
              "      <td>2440</td>\n",
              "    </tr>\n",
              "    <tr>\n",
              "      <th>3</th>\n",
              "      <td>2020-01-03</td>\n",
              "      <td>Lente 16-35mm f/2.8</td>\n",
              "      <td>2</td>\n",
              "      <td>Carlos</td>\n",
              "      <td>8997</td>\n",
              "      <td>17994</td>\n",
              "    </tr>\n",
              "    <tr>\n",
              "      <th>4</th>\n",
              "      <td>2020-01-04</td>\n",
              "      <td>Lente 16-35mm f/2.8</td>\n",
              "      <td>2</td>\n",
              "      <td>Fernanda</td>\n",
              "      <td>8997</td>\n",
              "      <td>17994</td>\n",
              "    </tr>\n",
              "    <tr>\n",
              "      <th>...</th>\n",
              "      <td>...</td>\n",
              "      <td>...</td>\n",
              "      <td>...</td>\n",
              "      <td>...</td>\n",
              "      <td>...</td>\n",
              "      <td>...</td>\n",
              "    </tr>\n",
              "    <tr>\n",
              "      <th>85</th>\n",
              "      <td>2020-01-29</td>\n",
              "      <td>Filtro ND 5 Stop</td>\n",
              "      <td>2</td>\n",
              "      <td>Theo</td>\n",
              "      <td>1220</td>\n",
              "      <td>2440</td>\n",
              "    </tr>\n",
              "    <tr>\n",
              "      <th>86</th>\n",
              "      <td>2020-01-29</td>\n",
              "      <td>Lente 16-35mm f/2.8</td>\n",
              "      <td>2</td>\n",
              "      <td>Theo</td>\n",
              "      <td>8997</td>\n",
              "      <td>17994</td>\n",
              "    </tr>\n",
              "    <tr>\n",
              "      <th>87</th>\n",
              "      <td>2020-01-29</td>\n",
              "      <td>Filtro ND 2 Stop</td>\n",
              "      <td>1</td>\n",
              "      <td>Fernanda</td>\n",
              "      <td>1220</td>\n",
              "      <td>1220</td>\n",
              "    </tr>\n",
              "    <tr>\n",
              "      <th>88</th>\n",
              "      <td>2020-01-30</td>\n",
              "      <td>Filtro ND 3 Stop</td>\n",
              "      <td>2</td>\n",
              "      <td>Fernanda</td>\n",
              "      <td>1220</td>\n",
              "      <td>2440</td>\n",
              "    </tr>\n",
              "    <tr>\n",
              "      <th>89</th>\n",
              "      <td>2020-01-30</td>\n",
              "      <td>Filtro ND 5 Stop</td>\n",
              "      <td>2</td>\n",
              "      <td>Raquel</td>\n",
              "      <td>1220</td>\n",
              "      <td>2440</td>\n",
              "    </tr>\n",
              "  </tbody>\n",
              "</table>\n",
              "<p>90 rows × 6 columns</p>\n",
              "</div>\n",
              "      <button class=\"colab-df-convert\" onclick=\"convertToInteractive('df-63211bef-35b4-45c0-8db2-d3367debc6ed')\"\n",
              "              title=\"Convert this dataframe to an interactive table.\"\n",
              "              style=\"display:none;\">\n",
              "\n",
              "  <svg xmlns=\"http://www.w3.org/2000/svg\" height=\"24px\"viewBox=\"0 0 24 24\"\n",
              "       width=\"24px\">\n",
              "    <path d=\"M0 0h24v24H0V0z\" fill=\"none\"/>\n",
              "    <path d=\"M18.56 5.44l.94 2.06.94-2.06 2.06-.94-2.06-.94-.94-2.06-.94 2.06-2.06.94zm-11 1L8.5 8.5l.94-2.06 2.06-.94-2.06-.94L8.5 2.5l-.94 2.06-2.06.94zm10 10l.94 2.06.94-2.06 2.06-.94-2.06-.94-.94-2.06-.94 2.06-2.06.94z\"/><path d=\"M17.41 7.96l-1.37-1.37c-.4-.4-.92-.59-1.43-.59-.52 0-1.04.2-1.43.59L10.3 9.45l-7.72 7.72c-.78.78-.78 2.05 0 2.83L4 21.41c.39.39.9.59 1.41.59.51 0 1.02-.2 1.41-.59l7.78-7.78 2.81-2.81c.8-.78.8-2.07 0-2.86zM5.41 20L4 18.59l7.72-7.72 1.47 1.35L5.41 20z\"/>\n",
              "  </svg>\n",
              "      </button>\n",
              "\n",
              "\n",
              "\n",
              "    <div id=\"df-3aa879d6-4caf-425f-9d1d-c7f3319417ef\">\n",
              "      <button class=\"colab-df-quickchart\" onclick=\"quickchart('df-3aa879d6-4caf-425f-9d1d-c7f3319417ef')\"\n",
              "              title=\"Suggest charts.\"\n",
              "              style=\"display:none;\">\n",
              "\n",
              "<svg xmlns=\"http://www.w3.org/2000/svg\" height=\"24px\"viewBox=\"0 0 24 24\"\n",
              "     width=\"24px\">\n",
              "    <g>\n",
              "        <path d=\"M19 3H5c-1.1 0-2 .9-2 2v14c0 1.1.9 2 2 2h14c1.1 0 2-.9 2-2V5c0-1.1-.9-2-2-2zM9 17H7v-7h2v7zm4 0h-2V7h2v10zm4 0h-2v-4h2v4z\"/>\n",
              "    </g>\n",
              "</svg>\n",
              "      </button>\n",
              "    </div>\n",
              "\n",
              "<style>\n",
              "  .colab-df-quickchart {\n",
              "    background-color: #E8F0FE;\n",
              "    border: none;\n",
              "    border-radius: 50%;\n",
              "    cursor: pointer;\n",
              "    display: none;\n",
              "    fill: #1967D2;\n",
              "    height: 32px;\n",
              "    padding: 0 0 0 0;\n",
              "    width: 32px;\n",
              "  }\n",
              "\n",
              "  .colab-df-quickchart:hover {\n",
              "    background-color: #E2EBFA;\n",
              "    box-shadow: 0px 1px 2px rgba(60, 64, 67, 0.3), 0px 1px 3px 1px rgba(60, 64, 67, 0.15);\n",
              "    fill: #174EA6;\n",
              "  }\n",
              "\n",
              "  [theme=dark] .colab-df-quickchart {\n",
              "    background-color: #3B4455;\n",
              "    fill: #D2E3FC;\n",
              "  }\n",
              "\n",
              "  [theme=dark] .colab-df-quickchart:hover {\n",
              "    background-color: #434B5C;\n",
              "    box-shadow: 0px 1px 3px 1px rgba(0, 0, 0, 0.15);\n",
              "    filter: drop-shadow(0px 1px 2px rgba(0, 0, 0, 0.3));\n",
              "    fill: #FFFFFF;\n",
              "  }\n",
              "</style>\n",
              "\n",
              "    <script>\n",
              "      async function quickchart(key) {\n",
              "        const containerElement = document.querySelector('#' + key);\n",
              "        const charts = await google.colab.kernel.invokeFunction(\n",
              "            'suggestCharts', [key], {});\n",
              "      }\n",
              "    </script>\n",
              "\n",
              "      <script>\n",
              "\n",
              "function displayQuickchartButton(domScope) {\n",
              "  let quickchartButtonEl =\n",
              "    domScope.querySelector('#df-3aa879d6-4caf-425f-9d1d-c7f3319417ef button.colab-df-quickchart');\n",
              "  quickchartButtonEl.style.display =\n",
              "    google.colab.kernel.accessAllowed ? 'block' : 'none';\n",
              "}\n",
              "\n",
              "        displayQuickchartButton(document);\n",
              "      </script>\n",
              "      <style>\n",
              "    .colab-df-container {\n",
              "      display:flex;\n",
              "      flex-wrap:wrap;\n",
              "      gap: 12px;\n",
              "    }\n",
              "\n",
              "    .colab-df-convert {\n",
              "      background-color: #E8F0FE;\n",
              "      border: none;\n",
              "      border-radius: 50%;\n",
              "      cursor: pointer;\n",
              "      display: none;\n",
              "      fill: #1967D2;\n",
              "      height: 32px;\n",
              "      padding: 0 0 0 0;\n",
              "      width: 32px;\n",
              "    }\n",
              "\n",
              "    .colab-df-convert:hover {\n",
              "      background-color: #E2EBFA;\n",
              "      box-shadow: 0px 1px 2px rgba(60, 64, 67, 0.3), 0px 1px 3px 1px rgba(60, 64, 67, 0.15);\n",
              "      fill: #174EA6;\n",
              "    }\n",
              "\n",
              "    [theme=dark] .colab-df-convert {\n",
              "      background-color: #3B4455;\n",
              "      fill: #D2E3FC;\n",
              "    }\n",
              "\n",
              "    [theme=dark] .colab-df-convert:hover {\n",
              "      background-color: #434B5C;\n",
              "      box-shadow: 0px 1px 3px 1px rgba(0, 0, 0, 0.15);\n",
              "      filter: drop-shadow(0px 1px 2px rgba(0, 0, 0, 0.3));\n",
              "      fill: #FFFFFF;\n",
              "    }\n",
              "  </style>\n",
              "\n",
              "      <script>\n",
              "        const buttonEl =\n",
              "          document.querySelector('#df-63211bef-35b4-45c0-8db2-d3367debc6ed button.colab-df-convert');\n",
              "        buttonEl.style.display =\n",
              "          google.colab.kernel.accessAllowed ? 'block' : 'none';\n",
              "\n",
              "        async function convertToInteractive(key) {\n",
              "          const element = document.querySelector('#df-63211bef-35b4-45c0-8db2-d3367debc6ed');\n",
              "          const dataTable =\n",
              "            await google.colab.kernel.invokeFunction('convertToInteractive',\n",
              "                                                     [key], {});\n",
              "          if (!dataTable) return;\n",
              "\n",
              "          const docLinkHtml = 'Like what you see? Visit the ' +\n",
              "            '<a target=\"_blank\" href=https://colab.research.google.com/notebooks/data_table.ipynb>data table notebook</a>'\n",
              "            + ' to learn more about interactive tables.';\n",
              "          element.innerHTML = '';\n",
              "          dataTable['output_type'] = 'display_data';\n",
              "          await google.colab.output.renderOutput(dataTable, element);\n",
              "          const docLink = document.createElement('div');\n",
              "          docLink.innerHTML = docLinkHtml;\n",
              "          element.appendChild(docLink);\n",
              "        }\n",
              "      </script>\n",
              "    </div>\n",
              "  </div>\n"
            ]
          },
          "metadata": {},
          "execution_count": 16
        }
      ]
    },
    {
      "cell_type": "code",
      "source": [
        "#Somando Quantidade do Estoque\n",
        "df['Vendas']['Quantidade'].sum()"
      ],
      "metadata": {
        "colab": {
          "base_uri": "https://localhost:8080/"
        },
        "id": "IgZFTwZq5QdL",
        "outputId": "7a795bf4-943b-45f5-b68b-0356594a4805"
      },
      "execution_count": null,
      "outputs": [
        {
          "output_type": "execute_result",
          "data": {
            "text/plain": [
              "139"
            ]
          },
          "metadata": {},
          "execution_count": 17
        }
      ]
    },
    {
      "cell_type": "code",
      "source": [
        "vendas = df['Vendas']\n",
        "stoques = df['Estoque']\n",
        "funcionarios = df['Funcionários']"
      ],
      "metadata": {
        "id": "JQgSOoioGwgA"
      },
      "execution_count": null,
      "outputs": []
    },
    {
      "cell_type": "code",
      "source": [
        "filtro = vendas[vendas['Item'] == 'Filtro ND 5 Stop']\n",
        "filtro.head()"
      ],
      "metadata": {
        "colab": {
          "base_uri": "https://localhost:8080/",
          "height": 206
        },
        "id": "zRkqNzTZLsl0",
        "outputId": "f6ccc3fe-a053-4381-aa8d-ed9bfc490ef2"
      },
      "execution_count": null,
      "outputs": [
        {
          "output_type": "execute_result",
          "data": {
            "text/plain": [
              "   Data da Venda              Item  Quantidade  Vendedor  Preço Unitário  \\\n",
              "1     2020-01-02  Filtro ND 5 Stop           2    Raquel            1220   \n",
              "2     2020-01-03  Filtro ND 5 Stop           2    Raquel            1220   \n",
              "12    2020-01-06  Filtro ND 5 Stop           1    Carlos            1220   \n",
              "17    2020-01-10  Filtro ND 5 Stop           2    Raquel            1220   \n",
              "24    2020-01-12  Filtro ND 5 Stop           1  Fernanda            1220   \n",
              "\n",
              "    Total de Vendas  \n",
              "1              2440  \n",
              "2              2440  \n",
              "12             1220  \n",
              "17             2440  \n",
              "24             1220  "
            ],
            "text/html": [
              "\n",
              "\n",
              "  <div id=\"df-cf69fd5c-bc27-442b-b27b-19342d28f5c2\">\n",
              "    <div class=\"colab-df-container\">\n",
              "      <div>\n",
              "<style scoped>\n",
              "    .dataframe tbody tr th:only-of-type {\n",
              "        vertical-align: middle;\n",
              "    }\n",
              "\n",
              "    .dataframe tbody tr th {\n",
              "        vertical-align: top;\n",
              "    }\n",
              "\n",
              "    .dataframe thead th {\n",
              "        text-align: right;\n",
              "    }\n",
              "</style>\n",
              "<table border=\"1\" class=\"dataframe\">\n",
              "  <thead>\n",
              "    <tr style=\"text-align: right;\">\n",
              "      <th></th>\n",
              "      <th>Data da Venda</th>\n",
              "      <th>Item</th>\n",
              "      <th>Quantidade</th>\n",
              "      <th>Vendedor</th>\n",
              "      <th>Preço Unitário</th>\n",
              "      <th>Total de Vendas</th>\n",
              "    </tr>\n",
              "  </thead>\n",
              "  <tbody>\n",
              "    <tr>\n",
              "      <th>1</th>\n",
              "      <td>2020-01-02</td>\n",
              "      <td>Filtro ND 5 Stop</td>\n",
              "      <td>2</td>\n",
              "      <td>Raquel</td>\n",
              "      <td>1220</td>\n",
              "      <td>2440</td>\n",
              "    </tr>\n",
              "    <tr>\n",
              "      <th>2</th>\n",
              "      <td>2020-01-03</td>\n",
              "      <td>Filtro ND 5 Stop</td>\n",
              "      <td>2</td>\n",
              "      <td>Raquel</td>\n",
              "      <td>1220</td>\n",
              "      <td>2440</td>\n",
              "    </tr>\n",
              "    <tr>\n",
              "      <th>12</th>\n",
              "      <td>2020-01-06</td>\n",
              "      <td>Filtro ND 5 Stop</td>\n",
              "      <td>1</td>\n",
              "      <td>Carlos</td>\n",
              "      <td>1220</td>\n",
              "      <td>1220</td>\n",
              "    </tr>\n",
              "    <tr>\n",
              "      <th>17</th>\n",
              "      <td>2020-01-10</td>\n",
              "      <td>Filtro ND 5 Stop</td>\n",
              "      <td>2</td>\n",
              "      <td>Raquel</td>\n",
              "      <td>1220</td>\n",
              "      <td>2440</td>\n",
              "    </tr>\n",
              "    <tr>\n",
              "      <th>24</th>\n",
              "      <td>2020-01-12</td>\n",
              "      <td>Filtro ND 5 Stop</td>\n",
              "      <td>1</td>\n",
              "      <td>Fernanda</td>\n",
              "      <td>1220</td>\n",
              "      <td>1220</td>\n",
              "    </tr>\n",
              "  </tbody>\n",
              "</table>\n",
              "</div>\n",
              "      <button class=\"colab-df-convert\" onclick=\"convertToInteractive('df-cf69fd5c-bc27-442b-b27b-19342d28f5c2')\"\n",
              "              title=\"Convert this dataframe to an interactive table.\"\n",
              "              style=\"display:none;\">\n",
              "\n",
              "  <svg xmlns=\"http://www.w3.org/2000/svg\" height=\"24px\"viewBox=\"0 0 24 24\"\n",
              "       width=\"24px\">\n",
              "    <path d=\"M0 0h24v24H0V0z\" fill=\"none\"/>\n",
              "    <path d=\"M18.56 5.44l.94 2.06.94-2.06 2.06-.94-2.06-.94-.94-2.06-.94 2.06-2.06.94zm-11 1L8.5 8.5l.94-2.06 2.06-.94-2.06-.94L8.5 2.5l-.94 2.06-2.06.94zm10 10l.94 2.06.94-2.06 2.06-.94-2.06-.94-.94-2.06-.94 2.06-2.06.94z\"/><path d=\"M17.41 7.96l-1.37-1.37c-.4-.4-.92-.59-1.43-.59-.52 0-1.04.2-1.43.59L10.3 9.45l-7.72 7.72c-.78.78-.78 2.05 0 2.83L4 21.41c.39.39.9.59 1.41.59.51 0 1.02-.2 1.41-.59l7.78-7.78 2.81-2.81c.8-.78.8-2.07 0-2.86zM5.41 20L4 18.59l7.72-7.72 1.47 1.35L5.41 20z\"/>\n",
              "  </svg>\n",
              "      </button>\n",
              "\n",
              "\n",
              "\n",
              "    <div id=\"df-c3296994-3fc3-4677-8de4-befb1c54eca2\">\n",
              "      <button class=\"colab-df-quickchart\" onclick=\"quickchart('df-c3296994-3fc3-4677-8de4-befb1c54eca2')\"\n",
              "              title=\"Suggest charts.\"\n",
              "              style=\"display:none;\">\n",
              "\n",
              "<svg xmlns=\"http://www.w3.org/2000/svg\" height=\"24px\"viewBox=\"0 0 24 24\"\n",
              "     width=\"24px\">\n",
              "    <g>\n",
              "        <path d=\"M19 3H5c-1.1 0-2 .9-2 2v14c0 1.1.9 2 2 2h14c1.1 0 2-.9 2-2V5c0-1.1-.9-2-2-2zM9 17H7v-7h2v7zm4 0h-2V7h2v10zm4 0h-2v-4h2v4z\"/>\n",
              "    </g>\n",
              "</svg>\n",
              "      </button>\n",
              "    </div>\n",
              "\n",
              "<style>\n",
              "  .colab-df-quickchart {\n",
              "    background-color: #E8F0FE;\n",
              "    border: none;\n",
              "    border-radius: 50%;\n",
              "    cursor: pointer;\n",
              "    display: none;\n",
              "    fill: #1967D2;\n",
              "    height: 32px;\n",
              "    padding: 0 0 0 0;\n",
              "    width: 32px;\n",
              "  }\n",
              "\n",
              "  .colab-df-quickchart:hover {\n",
              "    background-color: #E2EBFA;\n",
              "    box-shadow: 0px 1px 2px rgba(60, 64, 67, 0.3), 0px 1px 3px 1px rgba(60, 64, 67, 0.15);\n",
              "    fill: #174EA6;\n",
              "  }\n",
              "\n",
              "  [theme=dark] .colab-df-quickchart {\n",
              "    background-color: #3B4455;\n",
              "    fill: #D2E3FC;\n",
              "  }\n",
              "\n",
              "  [theme=dark] .colab-df-quickchart:hover {\n",
              "    background-color: #434B5C;\n",
              "    box-shadow: 0px 1px 3px 1px rgba(0, 0, 0, 0.15);\n",
              "    filter: drop-shadow(0px 1px 2px rgba(0, 0, 0, 0.3));\n",
              "    fill: #FFFFFF;\n",
              "  }\n",
              "</style>\n",
              "\n",
              "    <script>\n",
              "      async function quickchart(key) {\n",
              "        const containerElement = document.querySelector('#' + key);\n",
              "        const charts = await google.colab.kernel.invokeFunction(\n",
              "            'suggestCharts', [key], {});\n",
              "      }\n",
              "    </script>\n",
              "\n",
              "      <script>\n",
              "\n",
              "function displayQuickchartButton(domScope) {\n",
              "  let quickchartButtonEl =\n",
              "    domScope.querySelector('#df-c3296994-3fc3-4677-8de4-befb1c54eca2 button.colab-df-quickchart');\n",
              "  quickchartButtonEl.style.display =\n",
              "    google.colab.kernel.accessAllowed ? 'block' : 'none';\n",
              "}\n",
              "\n",
              "        displayQuickchartButton(document);\n",
              "      </script>\n",
              "      <style>\n",
              "    .colab-df-container {\n",
              "      display:flex;\n",
              "      flex-wrap:wrap;\n",
              "      gap: 12px;\n",
              "    }\n",
              "\n",
              "    .colab-df-convert {\n",
              "      background-color: #E8F0FE;\n",
              "      border: none;\n",
              "      border-radius: 50%;\n",
              "      cursor: pointer;\n",
              "      display: none;\n",
              "      fill: #1967D2;\n",
              "      height: 32px;\n",
              "      padding: 0 0 0 0;\n",
              "      width: 32px;\n",
              "    }\n",
              "\n",
              "    .colab-df-convert:hover {\n",
              "      background-color: #E2EBFA;\n",
              "      box-shadow: 0px 1px 2px rgba(60, 64, 67, 0.3), 0px 1px 3px 1px rgba(60, 64, 67, 0.15);\n",
              "      fill: #174EA6;\n",
              "    }\n",
              "\n",
              "    [theme=dark] .colab-df-convert {\n",
              "      background-color: #3B4455;\n",
              "      fill: #D2E3FC;\n",
              "    }\n",
              "\n",
              "    [theme=dark] .colab-df-convert:hover {\n",
              "      background-color: #434B5C;\n",
              "      box-shadow: 0px 1px 3px 1px rgba(0, 0, 0, 0.15);\n",
              "      filter: drop-shadow(0px 1px 2px rgba(0, 0, 0, 0.3));\n",
              "      fill: #FFFFFF;\n",
              "    }\n",
              "  </style>\n",
              "\n",
              "      <script>\n",
              "        const buttonEl =\n",
              "          document.querySelector('#df-cf69fd5c-bc27-442b-b27b-19342d28f5c2 button.colab-df-convert');\n",
              "        buttonEl.style.display =\n",
              "          google.colab.kernel.accessAllowed ? 'block' : 'none';\n",
              "\n",
              "        async function convertToInteractive(key) {\n",
              "          const element = document.querySelector('#df-cf69fd5c-bc27-442b-b27b-19342d28f5c2');\n",
              "          const dataTable =\n",
              "            await google.colab.kernel.invokeFunction('convertToInteractive',\n",
              "                                                     [key], {});\n",
              "          if (!dataTable) return;\n",
              "\n",
              "          const docLinkHtml = 'Like what you see? Visit the ' +\n",
              "            '<a target=\"_blank\" href=https://colab.research.google.com/notebooks/data_table.ipynb>data table notebook</a>'\n",
              "            + ' to learn more about interactive tables.';\n",
              "          element.innerHTML = '';\n",
              "          dataTable['output_type'] = 'display_data';\n",
              "          await google.colab.output.renderOutput(dataTable, element);\n",
              "          const docLink = document.createElement('div');\n",
              "          docLink.innerHTML = docLinkHtml;\n",
              "          element.appendChild(docLink);\n",
              "        }\n",
              "      </script>\n",
              "    </div>\n",
              "  </div>\n"
            ]
          },
          "metadata": {},
          "execution_count": 26
        }
      ]
    },
    {
      "cell_type": "code",
      "source": [
        "# Plotando gráfico de total de vendas por data\n",
        "vendas.plot('Data da Venda', 'Total de Vendas')"
      ],
      "metadata": {
        "colab": {
          "base_uri": "https://localhost:8080/",
          "height": 462
        },
        "id": "ERJOagVsHw4-",
        "outputId": "cfc5dbc7-1934-46c5-b592-ce96b5675376"
      },
      "execution_count": null,
      "outputs": [
        {
          "output_type": "execute_result",
          "data": {
            "text/plain": [
              "<Axes: xlabel='Data da Venda'>"
            ]
          },
          "metadata": {},
          "execution_count": 19
        },
        {
          "output_type": "display_data",
          "data": {
            "text/plain": [
              "<Figure size 640x480 with 1 Axes>"
            ],
            "image/png": "[encoded data removed]"
          },
          "metadata": {}
        }
      ]
    },
    {
      "cell_type": "code",
      "source": [
        "vendas['Data da Venda']"
      ],
      "metadata": {
        "colab": {
          "base_uri": "https://localhost:8080/"
        },
        "id": "edrm28bZJmJr",
        "outputId": "db6d9c56-af1b-4d61-cc92-40155012fe85"
      },
      "execution_count": null,
      "outputs": [
        {
          "output_type": "execute_result",
          "data": {
            "text/plain": [
              "0    2020-01-02\n",
              "1    2020-01-02\n",
              "2    2020-01-03\n",
              "3    2020-01-03\n",
              "4    2020-01-04\n",
              "        ...    \n",
              "85   2020-01-29\n",
              "86   2020-01-29\n",
              "87   2020-01-29\n",
              "88   2020-01-30\n",
              "89   2020-01-30\n",
              "Name: Data da Venda, Length: 90, dtype: datetime64[ns]"
            ]
          },
          "metadata": {},
          "execution_count": 20
        }
      ]
    },
    {
      "cell_type": "code",
      "source": [
        "vendas['Data da Venda'].apply(lambda x: x.weekday())"
      ],
      "metadata": {
        "colab": {
          "base_uri": "https://localhost:8080/"
        },
        "id": "490qGKQdMLEW",
        "outputId": "997717d6-14f4-431a-8ba3-ada37996a6e5"
      },
      "execution_count": null,
      "outputs": [
        {
          "output_type": "execute_result",
          "data": {
            "text/plain": [
              "0     3\n",
              "1     3\n",
              "2     4\n",
              "3     4\n",
              "4     5\n",
              "     ..\n",
              "85    2\n",
              "86    2\n",
              "87    2\n",
              "88    3\n",
              "89    3\n",
              "Name: Data da Venda, Length: 90, dtype: int64"
            ]
          },
          "metadata": {},
          "execution_count": 28
        }
      ]
    },
    {
      "cell_type": "code",
      "source": [
        "vendas['Data da Venda'].apply(lambda x: x.weekday()).hist(bins=7)"
      ],
      "metadata": {
        "colab": {
          "base_uri": "https://localhost:8080/",
          "height": 448
        },
        "id": "qnUqRaOPJ9ZL",
        "outputId": "0f03169f-1b8f-46d9-da7a-2949d116b352"
      },
      "execution_count": null,
      "outputs": [
        {
          "output_type": "execute_result",
          "data": {
            "text/plain": [
              "<Axes: >"
            ]
          },
          "metadata": {},
          "execution_count": 27
        },
        {
          "output_type": "display_data",
          "data": {
            "text/plain": [
              "<Figure size 640x480 with 1 Axes>"
            ],
            "image/png": "[encoded data removed]"
          },
          "metadata": {}
        }
      ]
    },
    {
      "cell_type": "code",
      "source": [
        "# Mapeando os números dos dias da semana para os nomes\n",
        "nomes_das_semanas = {\n",
        "    0: 'Segunda-feira',\n",
        "    1: 'Terça-feira',\n",
        "    2: 'Quarta-feira',\n",
        "    3: 'Quinta-feira',\n",
        "    4: 'Sexta-feira',\n",
        "    5: 'Sábado',\n",
        "    6: 'Domingo'\n",
        "}\n",
        "\n",
        "# Obtendo os números dos dias da semana a partir da coluna 'Data da Venda'\n",
        "semanas_em_numeros = vendas['Data da Venda'].apply(lambda x: x.weekday())\n",
        "\n",
        "# Mapeando os números para os nomes dos dias da semana usando o dicionário\n",
        "dias_da_semana = semanas_em_numeros.map(nomes_das_semanas)\n"
      ],
      "metadata": {
        "id": "IaGYbjYkOPKJ"
      },
      "execution_count": null,
      "outputs": []
    },
    {
      "cell_type": "code",
      "source": [
        "# Plotando histograma\n",
        "plt.figure(figsize= (12, 6))\n",
        "plt.hist(dias_da_semana, bins=7)\n",
        "plt.xlabel('Dias da Semana')\n",
        "plt.ylabel('Quantidade de vendas')\n",
        "plt.title('Vendas por Dias da Semana')\n"
      ],
      "metadata": {
        "colab": {
          "base_uri": "https://localhost:8080/",
          "height": 582
        },
        "id": "1XHGrRMFQZjs",
        "outputId": "7ca3fdfd-036a-4683-c88c-cc11e4ad5664"
      },
      "execution_count": null,
      "outputs": [
        {
          "output_type": "execute_result",
          "data": {
            "text/plain": [
              "Text(0.5, 1.0, 'Vendas por Dias da Semana')"
            ]
          },
          "metadata": {},
          "execution_count": 50
        },
        {
          "output_type": "display_data",
          "data": {
            "text/plain": [
              "<Figure size 1200x600 with 1 Axes>"
            ],
            "image/png": "[encoded data removed]"
          },
          "metadata": {}
        }
      ]
    },
    {
      "cell_type": "code",
      "source": [
        "vendas['Data da Venda'].apply(lambda x: x.strftime('%A')).hist(bins=7)"
      ],
      "metadata": {
        "colab": {
          "base_uri": "https://localhost:8080/",
          "height": 448
        },
        "id": "8pnVoE5yNwr1",
        "outputId": "b461a412-bc9d-493c-835c-795d770fb676"
      },
      "execution_count": null,
      "outputs": [
        {
          "output_type": "execute_result",
          "data": {
            "text/plain": [
              "<Axes: >"
            ]
          },
          "metadata": {},
          "execution_count": 30
        },
        {
          "output_type": "display_data",
          "data": {
            "text/plain": [
              "<Figure size 640x480 with 1 Axes>"
            ],
            "image/png": "[encoded data removed]"
          },
          "metadata": {}
        }
      ]
    }
  ]
}